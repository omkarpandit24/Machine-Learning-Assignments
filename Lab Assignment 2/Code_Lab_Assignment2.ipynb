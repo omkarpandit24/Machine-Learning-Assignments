{
  "cells": [
    {
      "metadata": {
        "trusted": true
      },
      "cell_type": "code",
      "source": "#lAB ASSIGNMENT 2\n\n#1\nfrom sklearn.datasets import load_wine\nfrom sklearn.model_selection import train_test_split\nwine = load_wine()\nX = wine.data\ny = wine.target\nX_train,X_test,y_train,y_test = train_test_split(X,y,test_size=0.2,random_state=24)\nprint(\"Number of samples in training\",len(X_train))\nprint(\"Number of samples in testing\",len(X_test))\n",
      "execution_count": 43,
      "outputs": [
        {
          "output_type": "stream",
          "text": "Number of samples in training 142\nNumber of samples in testing 36\n",
          "name": "stdout"
        }
      ]
    },
    {
      "metadata": {
        "trusted": true
      },
      "cell_type": "code",
      "source": "print(wine.DESCR)",
      "execution_count": 44,
      "outputs": [
        {
          "output_type": "stream",
          "text": "Wine Data Database\n====================\n\nNotes\n-----\nData Set Characteristics:\n    :Number of Instances: 178 (50 in each of three classes)\n    :Number of Attributes: 13 numeric, predictive attributes and the class\n    :Attribute Information:\n \t\t- 1) Alcohol\n \t\t- 2) Malic acid\n \t\t- 3) Ash\n\t\t- 4) Alcalinity of ash  \n \t\t- 5) Magnesium\n\t\t- 6) Total phenols\n \t\t- 7) Flavanoids\n \t\t- 8) Nonflavanoid phenols\n \t\t- 9) Proanthocyanins\n\t\t- 10)Color intensity\n \t\t- 11)Hue\n \t\t- 12)OD280/OD315 of diluted wines\n \t\t- 13)Proline\n        \t- class:\n                - class_0\n                - class_1\n                - class_2\n\t\t\n    :Summary Statistics:\n    \n    ============================= ==== ===== ======= =====\n                                   Min   Max   Mean     SD\n    ============================= ==== ===== ======= =====\n    Alcohol:                      11.0  14.8    13.0   0.8\n    Malic Acid:                   0.74  5.80    2.34  1.12\n    Ash:                          1.36  3.23    2.36  0.27\n    Alcalinity of Ash:            10.6  30.0    19.5   3.3\n    Magnesium:                    70.0 162.0    99.7  14.3\n    Total Phenols:                0.98  3.88    2.29  0.63\n    Flavanoids:                   0.34  5.08    2.03  1.00\n    Nonflavanoid Phenols:         0.13  0.66    0.36  0.12\n    Proanthocyanins:              0.41  3.58    1.59  0.57\n    Colour Intensity:              1.3  13.0     5.1   2.3\n    Hue:                          0.48  1.71    0.96  0.23\n    OD280/OD315 of diluted wines: 1.27  4.00    2.61  0.71\n    Proline:                       278  1680     746   315\n    ============================= ==== ===== ======= =====\n\n    :Missing Attribute Values: None\n    :Class Distribution: class_0 (59), class_1 (71), class_2 (48)\n    :Creator: R.A. Fisher\n    :Donor: Michael Marshall (MARSHALL%PLU@io.arc.nasa.gov)\n    :Date: July, 1988\n\nThis is a copy of UCI ML Wine recognition datasets.\nhttps://archive.ics.uci.edu/ml/machine-learning-databases/wine/wine.data\n\nThe data is the results of a chemical analysis of wines grown in the same\nregion in Italy by three different cultivators. There are thirteen different\nmeasurements taken for different constituents found in the three types of\nwine.\n\nOriginal Owners: \n\nForina, M. et al, PARVUS - \nAn Extendible Package for Data Exploration, Classification and Correlation. \nInstitute of Pharmaceutical and Food Analysis and Technologies,\nVia Brigata Salerno, 16147 Genoa, Italy.\n\nCitation:\n\nLichman, M. (2013). UCI Machine Learning Repository\n[http://archive.ics.uci.edu/ml]. Irvine, CA: University of California,\nSchool of Information and Computer Science. \n\nReferences\n----------\n(1) \nS. Aeberhard, D. Coomans and O. de Vel, \nComparison of Classifiers in High Dimensional Settings, \nTech. Rep. no. 92-02, (1992), Dept. of Computer Science and Dept. of \nMathematics and Statistics, James Cook University of North Queensland. \n(Also submitted to Technometrics). \n\nThe data was used with many others for comparing various \nclassifiers. The classes are separable, though only RDA \nhas achieved 100% correct classification. \n(RDA : 100%, QDA 99.4%, LDA 98.9%, 1NN 96.1% (z-transformed data)) \n(All results using the leave-one-out technique) \n\n(2) \nS. Aeberhard, D. Coomans and O. de Vel, \n\"THE CLASSIFICATION PERFORMANCE OF RDA\" \nTech. Rep. no. 92-01, (1992), Dept. of Computer Science and Dept. of \nMathematics and Statistics, James Cook University of North Queensland. \n(Also submitted to Journal of Chemometrics). \n\n",
          "name": "stdout"
        }
      ]
    },
    {
      "metadata": {
        "trusted": true
      },
      "cell_type": "code",
      "source": "#Normalization of Data\n\nfrom sklearn.preprocessing import MinMaxScaler\nmms = MinMaxScaler()\nX_train_norm = mms.fit_transform(X_train)\nX_test_norm = mms.transform(X_test)",
      "execution_count": 45,
      "outputs": []
    },
    {
      "metadata": {
        "trusted": true
      },
      "cell_type": "code",
      "source": "# Scaling of Datapoints\n\nfrom sklearn.preprocessing import StandardScaler\nss = StandardScaler()\nX_train_scaled = ss.fit_transform(X_train)\nX_test_scaled = ss.transform(X_test)",
      "execution_count": 46,
      "outputs": []
    },
    {
      "metadata": {
        "trusted": true
      },
      "cell_type": "code",
      "source": "#2A 3A\n\n#Tree Gini Model\n\nfrom sklearn.model_selection import cross_val_score\nfrom sklearn.model_selection import StratifiedKFold\nfrom sklearn.linear_model import LogisticRegression\nlogreg = LogisticRegression()\nStratkFold = StratifiedKFold(n_splits=10)\nfrom sklearn.tree import DecisionTreeClassifier\n\nbest_score = 0\nfor maxd in [1,2,3,4,5,6,7]:\n    \n    tree_giniIndex = DecisionTreeClassifier(max_depth = maxd).fit(X_train, y_train)\n    \n    fold_accuracies = cross_val_score(tree_giniIndex, X_train, y_train,cv=StratkFold)    \n    score = fold_accuracies.mean()\n    # Find out the better score\n    if score > best_score:\n        best_score = score\n        best_parameters = {'max_depth': maxd}\n    \n# Rebuild a model on the combined training and validation set,\n# and evaluate a test score\ntree_giniIndex = DecisionTreeClassifier(**best_parameters)\ntree_giniIndex.fit(X_train, y_train)\ntest_score = tree_giniIndex.score(X_test,y_test)\n    \nprint(\"Best score on validation set: {:.2f}\".format(best_score))\nprint(\"Best parameters: {}\".format(best_parameters))\nprint(\"Test set score with best parameters: {:.2f}\".format(test_score))",
      "execution_count": 52,
      "outputs": [
        {
          "output_type": "stream",
          "text": "Best score on validation set: 0.89\nBest parameters: {'max_depth': 7}\nTest set score with best parameters: 0.89\n",
          "name": "stdout"
        }
      ]
    },
    {
      "metadata": {
        "trusted": true
      },
      "cell_type": "code",
      "source": "#2A 3A\n\n#Tree Entropy Model\n\nbest_score = 0\nfor maxd in [1,2,3,4,5,6,7]:\n    \n    tree_entropyIndex = DecisionTreeClassifier(criterion=\"entropy\",max_depth = maxd).fit(X_train, y_train)\n    \n    fold_accuracies = cross_val_score(tree_entropyIndex, X_train, y_train,cv=StratkFold)    \n    score = fold_accuracies.mean()\n    \n    if score > best_score:\n        best_score = score\n        best_parameters = {'max_depth': maxd}\n\n# Rebuild a model on the combined training and validation set,\n# and evaluate a test score\ntree_entropyIndex = DecisionTreeClassifier(**best_parameters,criterion=\"entropy\")\ntree_entropyIndex.fit(X_train, y_train)  \ntest_score = tree_entropyIndex.score(X_test,y_test)\n    \nprint(\"Best score on validation set: {:.2f}\".format(best_score))\nprint(\"Best parameters: {}\".format(best_parameters))\nprint(\"Test set score with best parameters: {:.2f}\".format(test_score))",
      "execution_count": 55,
      "outputs": [
        {
          "output_type": "stream",
          "text": "Best score on validation set: 0.93\nBest parameters: {'max_depth': 6}\nTest set score with best parameters: 0.94\n",
          "name": "stdout"
        }
      ]
    },
    {
      "metadata": {
        "trusted": true
      },
      "cell_type": "code",
      "source": "#2A 3A\n\n###KNN Neighbor(Manhattan)\nfrom sklearn.neighbors import KNeighborsClassifier\nbest_score = 0\nfor n_neighbors in [4,5,6,8,7,9,10]:\n    \n    clf = KNeighborsClassifier(n_neighbors = n_neighbors, p=1, metric='minkowski')\n    clf.fit(X_train, y_train)\n    \n    fold_accuracies = cross_val_score(clf, X_train, y_train,cv=StratkFold)    \n    score = fold_accuracies.mean()\n    \n    if score > best_score:\n        best_score = score\n        best_parameters = {'n_neighbors': n_neighbors}\n\n# Rebuild a model on the combined training and validation set,\n# and evaluate a test score\nclf = KNeighborsClassifier(**best_parameters, p=1, metric='minkowski')\nclf.fit(X_train_norm,y_train)\ntest_score = clf.score(X_test_norm,y_test)\nprint(\"Best score on validation set: {:.2f}\".format(best_score))\nprint(\"Best parameters: {}\".format(best_parameters))\nprint(\"Test set score with best parameters: {:.2f}\".format(test_score))",
      "execution_count": 56,
      "outputs": [
        {
          "output_type": "stream",
          "text": "Best score on validation set: 0.76\nBest parameters: {'n_neighbors': 6}\nTest set score with best parameters: 0.94\n",
          "name": "stdout"
        }
      ]
    },
    {
      "metadata": {
        "trusted": true
      },
      "cell_type": "code",
      "source": "#2A 3A\n\n###KNN Neighbor(Euclidean)\nfrom sklearn.neighbors import KNeighborsClassifier\nbest_score = 0\nfor n_neighbors in [4,5,7,8,9,6,10]:\n    \n    euc = KNeighborsClassifier(n_neighbors = n_neighbors, p=2, metric='minkowski')\n    euc.fit(X_train, y_train)\n    \n    fold_accuracies = cross_val_score(clf, X_train, y_train,cv=StratkFold)    \n    score = fold_accuracies.mean()\n    \n    if score > best_score:\n        best_score = score\n        best_parameters = {'n_neighbors': n_neighbors}\n\n# Rebuild a model on the combined training and validation set,\n# and evaluate a test score\neuc = KNeighborsClassifier(**best_parameters, p=2, metric='minkowski')\neuc.fit(X_train_norm,y_train)  \ntest_score =euc.score(X_test_norm,y_test)\n    \nprint(\"Best score on validation set: {:.2f}\".format(best_score))\nprint(\"Best parameters: {}\".format(best_parameters))\nprint(\"Test set score with best parameters: {:.2f}\".format(test_score))",
      "execution_count": 57,
      "outputs": [
        {
          "output_type": "stream",
          "text": "Best score on validation set: 0.76\nBest parameters: {'n_neighbors': 4}\nTest set score with best parameters: 0.92\n",
          "name": "stdout"
        }
      ]
    },
    {
      "metadata": {
        "trusted": true
      },
      "cell_type": "code",
      "source": "#2A 3A\n\n###SVM Model \n\nfrom sklearn.svm import SVC\nfrom sklearn.preprocessing import StandardScaler\n\nbest_score = 0\n\nfor degree in [2,4,5]:\n    for curGamma in [0.001,1,10,100]:\n        for curC in [0.001,1,10,100]:\n            \n            svm = SVC(kernel=\"poly\",degree=degree,gamma=curGamma, C=curC)\n            svm.fit(X_train, y_train)\n            \n            score = svm.score(X_train, y_train)\n            \n            if score > best_score:\n                best_score = score\n                best_parameters = {'C': curC, 'gamma': curGamma,'degree':degree}\n            print(degree,curGamma, curC)\n# Rebuild a model on the combined training and validation set,\n# and evaluate a test score\nsvm = SVC(**best_parameters)\nsvm.fit(X_train_scaled, y_train)\ntest_score = svm.score(X_test_scaled, y_test)\nprint(\"Best score on validation set: {:.2f}\".format(best_score))\nprint(\"Best parameters: {}\".format(best_parameters))\nprint(\"Test set score with best parameters: {:.2f}\".format(test_score))",
      "execution_count": 59,
      "outputs": [
        {
          "output_type": "stream",
          "text": "2 0.001 0.001\n2 0.001 1\n2 0.001 10\n2 0.001 100\n2 1 0.001\n2 1 1\n2 1 10\n2 1 100\n2 10 0.001\n2 10 1\n2 10 10\n2 10 100\n2 100 0.001\n2 100 1\n2 100 10\n2 100 100\n4 0.001 0.001\n4 0.001 1\n4 0.001 10\n4 0.001 100\n4 1 0.001\n4 1 1\n4 1 10\n4 1 100\n4 10 0.001\n4 10 1\n4 10 10\n4 10 100\n4 100 0.001\n4 100 1\n4 100 10\n4 100 100\n5 0.001 0.001\n5 0.001 1\n5 0.001 10\n5 0.001 100\n5 1 0.001\n5 1 1\n5 1 10\n5 1 100\n5 10 0.001\n5 10 1\n5 10 10\n5 10 100\n5 100 0.001\n5 100 1\n5 100 10\n5 100 100\nBest score on validation set: 1.00\nBest parameters: {'degree': 2, 'gamma': 0.001, 'C': 1}\nTest set score with best parameters: 0.97\n",
          "name": "stdout"
        }
      ]
    },
    {
      "metadata": {
        "trusted": true
      },
      "cell_type": "code",
      "source": "#3B\n\n###Gaussian Naive Bayes\n\nfrom sklearn.naive_bayes import GaussianNB\nfrom sklearn import metrics\ngaussian_model = GaussianNB()\ngaussian_model.fit(X_train, y_train)\ntest_score_gaussian_model = gaussian_model.score(X_test, y_test)\n\nprint(\"Test set score: {:.2f}\".format(test_score_gaussian_model))\ny_predictedGaussianResults = gaussian_model.predict(X_test)",
      "execution_count": 47,
      "outputs": [
        {
          "output_type": "stream",
          "text": "Test set score: 0.94\n",
          "name": "stdout"
        }
      ]
    },
    {
      "metadata": {
        "trusted": true
      },
      "cell_type": "code",
      "source": "#3C\n\nprint(metrics.classification_report(y_predictedGaussianResults, y_test))",
      "execution_count": 48,
      "outputs": [
        {
          "output_type": "stream",
          "text": "             precision    recall  f1-score   support\n\n          0       0.93      1.00      0.96        13\n          1       0.93      0.93      0.93        14\n          2       1.00      0.89      0.94         9\n\navg / total       0.95      0.94      0.94        36\n\n",
          "name": "stdout"
        }
      ]
    },
    {
      "metadata": {
        "trusted": true
      },
      "cell_type": "code",
      "source": "#3D\nimport seaborn as sns\nimport matplotlib.pyplot as plt\n%matplotlib inline\nfrom sklearn.metrics import confusion_matrix\n\nmat = confusion_matrix(y_predictedGaussianResults, y_test)\nsns.heatmap(mat.T, square=True, annot=True, fmt='d', cbar=False)\nplt.xlabel('true label')\nplt.ylabel('predicted label')",
      "execution_count": 49,
      "outputs": [
        {
          "output_type": "execute_result",
          "execution_count": 49,
          "data": {
            "text/plain": "Text(91.68,0.5,'predicted label')"
          },
          "metadata": {}
        },
        {
          "output_type": "display_data",
          "data": {
            "image/png": "[encoded data removed]",
            "text/plain": "<matplotlib.figure.Figure at 0x7f5c994a74a8>"
          },
          "metadata": {}
        }
      ]
    },
    {
      "metadata": {
        "trusted": true
      },
      "cell_type": "code",
      "source": "#3C AND 3D\n\n###Prediction and Recall of Tree Gini\n\ntree_giniIndex = tree_giniIndex.predict(X_test)\n\nprint(metrics.classification_report(tree_giniIndex, y_test))\n\nmat = confusion_matrix(tree_giniIndex, y_test)\nsns.heatmap(mat.T, square=True, annot=True, fmt='d', cbar=False)\nplt.xlabel('true label')\nplt.ylabel('predicted label')",
      "execution_count": 53,
      "outputs": [
        {
          "output_type": "stream",
          "text": "             precision    recall  f1-score   support\n\n          0       0.93      1.00      0.96        13\n          1       0.93      0.81      0.87        16\n          2       0.75      0.86      0.80         7\n\navg / total       0.89      0.89      0.89        36\n\n",
          "name": "stdout"
        },
        {
          "output_type": "execute_result",
          "execution_count": 53,
          "data": {
            "text/plain": "Text(91.68,0.5,'predicted label')"
          },
          "metadata": {}
        },
        {
          "output_type": "display_data",
          "data": {
            "image/png": "[encoded data removed]",
            "text/plain": "<matplotlib.figure.Figure at 0x7f5c98dd6e48>"
          },
          "metadata": {}
        }
      ]
    },
    {
      "metadata": {
        "trusted": true
      },
      "cell_type": "code",
      "source": "#3C 3D\n\n######Prediction and Recall of Tree Entropy\n\n\ntree_entropyIndex = tree_entropyIndex.predict(X_test)\n\nprint(metrics.classification_report(tree_entropyIndex, y_test))\n\nmat = confusion_matrix(tree_entropyIndex, y_test)\nsns.heatmap(mat.T, square=True, annot=True, fmt='d', cbar=False)\nplt.xlabel('true label')\nplt.ylabel('predicted label')",
      "execution_count": 60,
      "outputs": [
        {
          "output_type": "stream",
          "text": "             precision    recall  f1-score   support\n\n          0       1.00      0.93      0.97        15\n          1       0.93      0.93      0.93        14\n          2       0.88      1.00      0.93         7\n\navg / total       0.95      0.94      0.94        36\n\n",
          "name": "stdout"
        },
        {
          "output_type": "execute_result",
          "execution_count": 60,
          "data": {
            "text/plain": "Text(91.68,0.5,'predicted label')"
          },
          "metadata": {}
        },
        {
          "output_type": "display_data",
          "data": {
            "image/png": "[encoded data removed]",
            "text/plain": "<matplotlib.figure.Figure at 0x7f5c9912ae48>"
          },
          "metadata": {}
        }
      ]
    },
    {
      "metadata": {
        "trusted": true
      },
      "cell_type": "code",
      "source": "#3C 3D\n\n###Prediction and Recall of Manhattan \n\n\nclf = clf.predict(X_test_norm)\n\nprint(metrics.classification_report(clf, y_test))\n\nmat = confusion_matrix(clf, y_test)\nsns.heatmap(mat.T, square=True, annot=True, fmt='d', cbar=False)\nplt.xlabel('true label')\nplt.ylabel('predicted label')",
      "execution_count": 61,
      "outputs": [
        {
          "output_type": "stream",
          "text": "             precision    recall  f1-score   support\n\n          0       1.00      0.93      0.97        15\n          1       0.86      1.00      0.92        12\n          2       1.00      0.89      0.94         9\n\navg / total       0.95      0.94      0.95        36\n\n",
          "name": "stdout"
        },
        {
          "output_type": "execute_result",
          "execution_count": 61,
          "data": {
            "text/plain": "Text(91.68,0.5,'predicted label')"
          },
          "metadata": {}
        },
        {
          "output_type": "display_data",
          "data": {
            "image/png": "[encoded data removed]",
            "text/plain": "<matplotlib.figure.Figure at 0x7f5c9912a240>"
          },
          "metadata": {}
        }
      ]
    },
    {
      "metadata": {
        "trusted": true
      },
      "cell_type": "code",
      "source": "#3C 3D\n\n###Prediction and Recall of Euclidean\n\neuc = euc.predict(X_test_norm)\n\nprint(metrics.classification_report(euc, y_test))\n\nmat = confusion_matrix(euc, y_test)\nsns.heatmap(mat.T, square=True, annot=True, fmt='d', cbar=False)\nplt.xlabel('true label')\nplt.ylabel('predicted label')",
      "execution_count": 62,
      "outputs": [
        {
          "output_type": "stream",
          "text": "             precision    recall  f1-score   support\n\n          0       1.00      0.88      0.93        16\n          1       0.79      1.00      0.88        11\n          2       1.00      0.89      0.94         9\n\navg / total       0.93      0.92      0.92        36\n\n",
          "name": "stdout"
        },
        {
          "output_type": "execute_result",
          "execution_count": 62,
          "data": {
            "text/plain": "Text(91.68,0.5,'predicted label')"
          },
          "metadata": {}
        },
        {
          "output_type": "display_data",
          "data": {
            "image/png": "[encoded data removed]",
            "text/plain": "<matplotlib.figure.Figure at 0x7f5c98d88be0>"
          },
          "metadata": {}
        }
      ]
    },
    {
      "metadata": {
        "trusted": true
      },
      "cell_type": "code",
      "source": "#3C 3D\n\n###Prediction and Recall of SVM\n\nsvm = svm.predict(X_test_scaled)\n\nprint(metrics.classification_report(svm, y_test))\nmat = confusion_matrix(svm, y_test)\nsns.heatmap(mat.T, square=True, annot=True, fmt='d', cbar=False)\nplt.xlabel('true label')\nplt.ylabel('predicted label')",
      "execution_count": 63,
      "outputs": [
        {
          "output_type": "stream",
          "text": "             precision    recall  f1-score   support\n\n          0       0.93      1.00      0.96        13\n          1       1.00      0.93      0.97        15\n          2       1.00      1.00      1.00         8\n\navg / total       0.97      0.97      0.97        36\n\n",
          "name": "stdout"
        },
        {
          "output_type": "execute_result",
          "execution_count": 63,
          "data": {
            "text/plain": "Text(91.68,0.5,'predicted label')"
          },
          "metadata": {}
        },
        {
          "output_type": "display_data",
          "data": {
            "image/png": "[encoded data removed]",
            "text/plain": "<matplotlib.figure.Figure at 0x7f5c99125978>"
          },
          "metadata": {}
        }
      ]
    },
    {
      "metadata": {
        "trusted": true
      },
      "cell_type": "code",
      "source": "",
      "execution_count": null,
      "outputs": []
    },
    {
      "metadata": {
        "trusted": true
      },
      "cell_type": "code",
      "source": "",
      "execution_count": null,
      "outputs": []
    }
  ],
  "metadata": {
    "kernelspec": {
      "name": "python3",
      "display_name": "Python 3",
      "language": "python"
    },
    "language_info": {
      "mimetype": "text/x-python",
      "nbconvert_exporter": "python",
      "name": "python",
      "pygments_lexer": "ipython3",
      "version": "3.5.4",
      "file_extension": ".py",
      "codemirror_mode": {
        "version": 3,
        "name": "ipython"
      }
    }
  },
  "nbformat": 4,
  "nbformat_minor": 2
}