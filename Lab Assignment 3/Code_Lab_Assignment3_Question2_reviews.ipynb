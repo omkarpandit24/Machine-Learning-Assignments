{
  "cells": [
    {
      "metadata": {
        "trusted": true
      },
      "cell_type": "code",
      "source": "import pandas as pd\nfrom sklearn.feature_extraction.text import TfidfVectorizer\nimport numpy as np\nfrom sklearn.model_selection import train_test_split",
      "execution_count": 1,
      "outputs": []
    },
    {
      "metadata": {
        "trusted": true
      },
      "cell_type": "code",
      "source": "#Loading the data set.\nreviews = pd.read_csv('movie_reviews.csv' , encoding='ISO-8859-1')",
      "execution_count": 2,
      "outputs": []
    },
    {
      "metadata": {
        "trusted": true
      },
      "cell_type": "code",
      "source": "from sklearn.utils import shuffle\nreviews = shuffle(reviews)\nx_reviews = reviews['reviews'].tolist()\ny_reviews = reviews['sentiment_1'].tolist()",
      "execution_count": 3,
      "outputs": []
    },
    {
      "metadata": {
        "trusted": true
      },
      "cell_type": "code",
      "source": "# Creating the BOW model\nfrom sklearn.feature_extraction.text import CountVectorizer\ncount = CountVectorizer()\nbag = count.fit_transform(x_reviews).toarray()\nbag.shape",
      "execution_count": 4,
      "outputs": [
        {
          "output_type": "execute_result",
          "execution_count": 4,
          "data": {
            "text/plain": "(2000, 39659)"
          },
          "metadata": {}
        }
      ]
    },
    {
      "metadata": {
        "trusted": true
      },
      "cell_type": "code",
      "source": "# TF-IDF\nfrom sklearn.feature_extraction.text import TfidfTransformer\ntfidf_transformer = TfidfTransformer(use_idf = True,\n                        norm = 'l2',\n                        smooth_idf = True)\n\nnp.set_printoptions(precision = 2)\nX_tfidf_reviews = tfidf_transformer.fit_transform(count.fit_transform(x_reviews))\nX_tfidf_reviews = X_tfidf_reviews.toarray()\nX_tfidf_reviews.shape",
      "execution_count": 5,
      "outputs": [
        {
          "output_type": "execute_result",
          "execution_count": 5,
          "data": {
            "text/plain": "(2000, 39659)"
          },
          "metadata": {}
        }
      ]
    },
    {
      "metadata": {
        "trusted": true
      },
      "cell_type": "code",
      "source": "# Machine Learning\n# Training Naive Bayes (NB) classifier on training data.\n### Naive Bayes Model\n\nfrom sklearn.model_selection import cross_val_score\nfrom sklearn.model_selection import KFold\nfrom sklearn.naive_bayes import GaussianNB\n\nGaussian= GaussianNB()\nkfold = KFold(n_splits=10, shuffle=True, random_state=42)\nfold_accuracies = cross_val_score(Gaussian, X_tfidf_reviews, y_reviews, cv=kfold)\nprint(\"Cross-validation score:\\n{}\".format(fold_accuracies))\nprint(\"Average cross-validation score: {:.2f}\".format(fold_accuracies.mean()))",
      "execution_count": 6,
      "outputs": [
        {
          "output_type": "stream",
          "text": "Cross-validation score:\n[0.62 0.64 0.65 0.66 0.64 0.68 0.7  0.64 0.66 0.61]\nAverage cross-validation score: 0.65\n",
          "name": "stdout"
        }
      ]
    },
    {
      "metadata": {
        "trusted": true
      },
      "cell_type": "code",
      "source": "### Decision Tree\nfrom sklearn.model_selection import cross_val_score\nfrom sklearn.model_selection import KFold\nfrom sklearn.tree import DecisionTreeClassifier\n\nDecisiontree = DecisionTreeClassifier()\nkfold = KFold(n_splits=10, shuffle=True, random_state=42)\nfold_accuracies = cross_val_score(Decisiontree, X_tfidf_reviews, y_reviews, cv=kfold)\nprint(\"Cross-validation score:\\n{}\".format(fold_accuracies))\nprint(\"Average cross-validation score: {:.2f}\".format(fold_accuracies.mean()))",
      "execution_count": 7,
      "outputs": [
        {
          "output_type": "stream",
          "text": "Cross-validation score:\n[0.6  0.66 0.69 0.61 0.61 0.66 0.7  0.69 0.61 0.67]\nAverage cross-validation score: 0.65\n",
          "name": "stdout"
        }
      ]
    },
    {
      "metadata": {
        "trusted": true
      },
      "cell_type": "code",
      "source": "### logistic Regression\nfrom sklearn.linear_model import LogisticRegression\nlogreg = LogisticRegression()\nkfold = KFold(n_splits=10, shuffle=True, random_state=42)\nfold_accuracies = cross_val_score(logreg, X_tfidf_reviews, y_reviews, cv=kfold)\nprint(\"Cross-validation score:\\n{}\".format(fold_accuracies))\nprint(\"Average cross-validation score: {:.2f}\".format(fold_accuracies.mean()))",
      "execution_count": 8,
      "outputs": [
        {
          "output_type": "stream",
          "text": "Cross-validation score:\n[0.81 0.86 0.8  0.83 0.79 0.81 0.85 0.83 0.86 0.85]\nAverage cross-validation score: 0.83\n",
          "name": "stdout"
        }
      ]
    },
    {
      "metadata": {
        "trusted": true
      },
      "cell_type": "code",
      "source": "# 2. Majority Vote Ensemble Algorithm\n\nfrom sklearn.naive_bayes import GaussianNB\nfrom sklearn.ensemble import VotingClassifier\nfrom sklearn.model_selection import cross_val_score\n\nclf1 = DecisionTreeClassifier()\nclf2 = GaussianNB()\nclf3 = LogisticRegression()\neclf1 = VotingClassifier(estimators=[('dec', clf1), ('gnb', clf2),('log',clf3)], voting='soft')\nkfold = KFold(n_splits=10, shuffle=True, random_state=42)\nscores = cross_val_score(eclf1, X_tfidf_reviews,y_reviews, cv=kfold)\nprint(scores.mean())",
      "execution_count": 9,
      "outputs": [
        {
          "output_type": "stream",
          "text": "/home/nbuser/anaconda3_420/lib/python3.5/site-packages/sklearn/ensemble/weight_boosting.py:29: DeprecationWarning: numpy.core.umath_tests is an internal NumPy module and should not be imported. It will be removed in a future NumPy release.\n  from numpy.core.umath_tests import inner1d\n/home/nbuser/anaconda3_420/lib/python3.5/site-packages/sklearn/preprocessing/label.py:151: DeprecationWarning: The truth value of an empty array is ambiguous. Returning False, but in future this will result in an error. Use `array.size > 0` to check that an array is not empty.\n  if diff:\n/home/nbuser/anaconda3_420/lib/python3.5/site-packages/sklearn/preprocessing/label.py:151: DeprecationWarning: The truth value of an empty array is ambiguous. Returning False, but in future this will result in an error. Use `array.size > 0` to check that an array is not empty.\n  if diff:\n/home/nbuser/anaconda3_420/lib/python3.5/site-packages/sklearn/preprocessing/label.py:151: DeprecationWarning: The truth value of an empty array is ambiguous. Returning False, but in future this will result in an error. Use `array.size > 0` to check that an array is not empty.\n  if diff:\n/home/nbuser/anaconda3_420/lib/python3.5/site-packages/sklearn/preprocessing/label.py:151: DeprecationWarning: The truth value of an empty array is ambiguous. Returning False, but in future this will result in an error. Use `array.size > 0` to check that an array is not empty.\n  if diff:\n/home/nbuser/anaconda3_420/lib/python3.5/site-packages/sklearn/preprocessing/label.py:151: DeprecationWarning: The truth value of an empty array is ambiguous. Returning False, but in future this will result in an error. Use `array.size > 0` to check that an array is not empty.\n  if diff:\n/home/nbuser/anaconda3_420/lib/python3.5/site-packages/sklearn/preprocessing/label.py:151: DeprecationWarning: The truth value of an empty array is ambiguous. Returning False, but in future this will result in an error. Use `array.size > 0` to check that an array is not empty.\n  if diff:\n/home/nbuser/anaconda3_420/lib/python3.5/site-packages/sklearn/preprocessing/label.py:151: DeprecationWarning: The truth value of an empty array is ambiguous. Returning False, but in future this will result in an error. Use `array.size > 0` to check that an array is not empty.\n  if diff:\n/home/nbuser/anaconda3_420/lib/python3.5/site-packages/sklearn/preprocessing/label.py:151: DeprecationWarning: The truth value of an empty array is ambiguous. Returning False, but in future this will result in an error. Use `array.size > 0` to check that an array is not empty.\n  if diff:\n/home/nbuser/anaconda3_420/lib/python3.5/site-packages/sklearn/preprocessing/label.py:151: DeprecationWarning: The truth value of an empty array is ambiguous. Returning False, but in future this will result in an error. Use `array.size > 0` to check that an array is not empty.\n  if diff:\n",
          "name": "stderr"
        },
        {
          "output_type": "stream",
          "text": "0.7755\n",
          "name": "stdout"
        },
        {
          "output_type": "stream",
          "text": "/home/nbuser/anaconda3_420/lib/python3.5/site-packages/sklearn/preprocessing/label.py:151: DeprecationWarning: The truth value of an empty array is ambiguous. Returning False, but in future this will result in an error. Use `array.size > 0` to check that an array is not empty.\n  if diff:\n",
          "name": "stderr"
        }
      ]
    },
    {
      "metadata": {
        "trusted": true
      },
      "cell_type": "code",
      "source": "### 2biii Bagging ensemble\n\nfrom sklearn.ensemble import BaggingClassifier\n\nbagging = BaggingClassifier(clf1)\nkfold = KFold(n_splits=10, shuffle=True, random_state=42)\nscores = cross_val_score(bagging, X_tfidf_reviews,y_reviews, cv=kfold)\nscores.mean()",
      "execution_count": 10,
      "outputs": [
        {
          "output_type": "execute_result",
          "execution_count": 10,
          "data": {
            "text/plain": "0.715"
          },
          "metadata": {}
        }
      ]
    },
    {
      "metadata": {
        "trusted": true
      },
      "cell_type": "code",
      "source": "### 2biii Bagging ensemble\n\nfrom sklearn.ensemble import BaggingClassifier\n\nbagging = BaggingClassifier(clf2)\nkfold = KFold(n_splits=10, shuffle=True, random_state=42)\nscores = cross_val_score(bagging, X_tfidf_reviews,y_reviews, cv=kfold)\nscores.mean()",
      "execution_count": 11,
      "outputs": [
        {
          "output_type": "execute_result",
          "execution_count": 11,
          "data": {
            "text/plain": "0.6775"
          },
          "metadata": {}
        }
      ]
    },
    {
      "metadata": {
        "trusted": true
      },
      "cell_type": "code",
      "source": "### 2biii Bagging ensemble\n\nfrom sklearn.ensemble import BaggingClassifier\n\nbagging = BaggingClassifier(clf3)\nkfold = KFold(n_splits=10, shuffle=True, random_state=42)\nscores = cross_val_score(bagging, X_tfidf_reviews,y_reviews, cv=kfold)\nscores.mean()",
      "execution_count": 12,
      "outputs": [
        {
          "output_type": "execute_result",
          "execution_count": 12,
          "data": {
            "text/plain": "0.8234999999999999"
          },
          "metadata": {}
        }
      ]
    },
    {
      "metadata": {
        "trusted": true
      },
      "cell_type": "code",
      "source": "### 2biii Bagging ensemble\n\nfrom sklearn.ensemble import BaggingClassifier\n\nbagging = BaggingClassifier(eclf1)\nkfold = KFold(n_splits=10, shuffle=True, random_state=42)\nscores = cross_val_score(bagging, X_tfidf_reviews,y_reviews, cv=kfold)\nscores.mean()",
      "execution_count": 13,
      "outputs": [
        {
          "output_type": "execute_result",
          "execution_count": 13,
          "data": {
            "text/plain": "0.7660000000000001"
          },
          "metadata": {}
        }
      ]
    },
    {
      "metadata": {
        "trusted": true
      },
      "cell_type": "code",
      "source": "# 2biv Adaboost algorithm\n\nfrom sklearn.ensemble import AdaBoostClassifier\n\nadabooster = AdaBoostClassifier(base_estimator=eclf1,n_estimators=50)\nkfold = KFold(n_splits=10, shuffle=True, random_state=42)\nscores = cross_val_score(adabooster, X_tfidf_reviews, y_reviews, cv=kfold)\nscores.mean()",
      "execution_count": 14,
      "outputs": [
        {
          "output_type": "execute_result",
          "execution_count": 14,
          "data": {
            "text/plain": "0.6639999999999999"
          },
          "metadata": {}
        }
      ]
    },
    {
      "metadata": {
        "trusted": true
      },
      "cell_type": "code",
      "source": "",
      "execution_count": null,
      "outputs": []
    }
  ],
  "metadata": {
    "kernelspec": {
      "name": "python3",
      "display_name": "Python 3",
      "language": "python"
    },
    "language_info": {
      "mimetype": "text/x-python",
      "nbconvert_exporter": "python",
      "name": "python",
      "pygments_lexer": "ipython3",
      "version": "3.5.4",
      "file_extension": ".py",
      "codemirror_mode": {
        "version": 3,
        "name": "ipython"
      }
    }
  },
  "nbformat": 4,
  "nbformat_minor": 2
}